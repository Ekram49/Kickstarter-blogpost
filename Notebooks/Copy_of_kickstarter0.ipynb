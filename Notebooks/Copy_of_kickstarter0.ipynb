{
  "nbformat": 4,
  "nbformat_minor": 0,
  "metadata": {
    "colab": {
      "name": "Copy of kickstarter0.ipynb",
      "provenance": [],
      "collapsed_sections": []
    },
    "kernelspec": {
      "name": "python3",
      "display_name": "Python 3"
    },
    "accelerator": "GPU"
  },
  "cells": [
    {
      "cell_type": "code",
      "metadata": {
        "id": "h42dRInQWv0c",
        "colab_type": "code",
        "colab": {
          "base_uri": "https://localhost:8080/",
          "height": 202
        },
        "outputId": "c531e4f3-ad5f-4390-f507-7f680683a859"
      },
      "source": [
        "!pip install category_encoders"
      ],
      "execution_count": null,
      "outputs": [
        {
          "output_type": "stream",
          "text": [
            "Requirement already satisfied: category_encoders in /usr/local/lib/python3.6/dist-packages (2.2.2)\n",
            "Requirement already satisfied: scipy>=1.0.0 in /usr/local/lib/python3.6/dist-packages (from category_encoders) (1.4.1)\n",
            "Requirement already satisfied: patsy>=0.5.1 in /usr/local/lib/python3.6/dist-packages (from category_encoders) (0.5.1)\n",
            "Requirement already satisfied: numpy>=1.14.0 in /usr/local/lib/python3.6/dist-packages (from category_encoders) (1.18.5)\n",
            "Requirement already satisfied: scikit-learn>=0.20.0 in /usr/local/lib/python3.6/dist-packages (from category_encoders) (0.22.2.post1)\n",
            "Requirement already satisfied: pandas>=0.21.1 in /usr/local/lib/python3.6/dist-packages (from category_encoders) (1.0.5)\n",
            "Requirement already satisfied: statsmodels>=0.9.0 in /usr/local/lib/python3.6/dist-packages (from category_encoders) (0.10.2)\n",
            "Requirement already satisfied: six in /usr/local/lib/python3.6/dist-packages (from patsy>=0.5.1->category_encoders) (1.12.0)\n",
            "Requirement already satisfied: joblib>=0.11 in /usr/local/lib/python3.6/dist-packages (from scikit-learn>=0.20.0->category_encoders) (0.15.1)\n",
            "Requirement already satisfied: pytz>=2017.2 in /usr/local/lib/python3.6/dist-packages (from pandas>=0.21.1->category_encoders) (2018.9)\n",
            "Requirement already satisfied: python-dateutil>=2.6.1 in /usr/local/lib/python3.6/dist-packages (from pandas>=0.21.1->category_encoders) (2.8.1)\n"
          ],
          "name": "stdout"
        }
      ]
    },
    {
      "cell_type": "code",
      "metadata": {
        "id": "sE09unKjUuE3",
        "colab_type": "code",
        "colab": {
          "base_uri": "https://localhost:8080/",
          "height": 70
        },
        "outputId": "b76f2330-8042-47f9-961d-ec8eeb362500"
      },
      "source": [
        "import numpy as np\n",
        "import pandas as pd\n",
        "from sklearn.model_selection import train_test_split\n",
        "import category_encoders as ce\n",
        "from sklearn.ensemble import RandomForestClassifier\n",
        "from sklearn.impute import SimpleImputer\n",
        "from sklearn.pipeline import make_pipeline"
      ],
      "execution_count": null,
      "outputs": [
        {
          "output_type": "stream",
          "text": [
            "/usr/local/lib/python3.6/dist-packages/statsmodels/tools/_testing.py:19: FutureWarning: pandas.util.testing is deprecated. Use the functions in the public API at pandas.testing instead.\n",
            "  import pandas.util.testing as tm\n"
          ],
          "name": "stderr"
        }
      ]
    },
    {
      "cell_type": "code",
      "metadata": {
        "id": "ZpU-oXG8W1jF",
        "colab_type": "code",
        "colab": {
          "base_uri": "https://localhost:8080/",
          "height": 534
        },
        "outputId": "dd679de3-69dd-4368-e28f-038bd6628deb"
      },
      "source": [
        "df0 = pd.read_csv('/content/ks_df.csv')\n",
        "df0.head()"
      ],
      "execution_count": null,
      "outputs": [
        {
          "output_type": "execute_result",
          "data": {
            "text/html": [
              "<div>\n",
              "<style scoped>\n",
              "    .dataframe tbody tr th:only-of-type {\n",
              "        vertical-align: middle;\n",
              "    }\n",
              "\n",
              "    .dataframe tbody tr th {\n",
              "        vertical-align: top;\n",
              "    }\n",
              "\n",
              "    .dataframe thead th {\n",
              "        text-align: right;\n",
              "    }\n",
              "</style>\n",
              "<table border=\"1\" class=\"dataframe\">\n",
              "  <thead>\n",
              "    <tr style=\"text-align: right;\">\n",
              "      <th></th>\n",
              "      <th>Unnamed: 0</th>\n",
              "      <th>backers_count</th>\n",
              "      <th>blurb</th>\n",
              "      <th>category</th>\n",
              "      <th>country</th>\n",
              "      <th>country_displayable_name</th>\n",
              "      <th>created_at</th>\n",
              "      <th>creator</th>\n",
              "      <th>currency</th>\n",
              "      <th>deadline</th>\n",
              "      <th>fx_rate</th>\n",
              "      <th>goal</th>\n",
              "      <th>id</th>\n",
              "      <th>launched_at</th>\n",
              "      <th>name</th>\n",
              "      <th>slug</th>\n",
              "      <th>spotlight</th>\n",
              "      <th>staff_pick</th>\n",
              "      <th>state_changed_at</th>\n",
              "      <th>usd_pledged</th>\n",
              "      <th>description_leng</th>\n",
              "      <th>is_successful</th>\n",
              "      <th>is_usa</th>\n",
              "      <th>usd_goal</th>\n",
              "      <th>is_usd</th>\n",
              "      <th>cam_length</th>\n",
              "    </tr>\n",
              "  </thead>\n",
              "  <tbody>\n",
              "    <tr>\n",
              "      <th>0</th>\n",
              "      <td>0</td>\n",
              "      <td>1</td>\n",
              "      <td>This is a project I created to find out why 10...</td>\n",
              "      <td>Video</td>\n",
              "      <td>US</td>\n",
              "      <td>the United States</td>\n",
              "      <td>2017-05-05 22:08:31</td>\n",
              "      <td>{\"id\":220745515,\"name\":\"Stephanie Balfrey\",\"sl...</td>\n",
              "      <td>USD</td>\n",
              "      <td>2017-05-05 22:08:31</td>\n",
              "      <td>1.00000</td>\n",
              "      <td>1000.0</td>\n",
              "      <td>104592348</td>\n",
              "      <td>2017-05-06 00:02:31</td>\n",
              "      <td>Breast Cancer Mission Impossible</td>\n",
              "      <td>breast-cancer-mission-impossible</td>\n",
              "      <td>False</td>\n",
              "      <td>False</td>\n",
              "      <td>2017-07-05 00:02:31</td>\n",
              "      <td>20.000000</td>\n",
              "      <td>123</td>\n",
              "      <td>False</td>\n",
              "      <td>True</td>\n",
              "      <td>1000.000</td>\n",
              "      <td>True</td>\n",
              "      <td>60</td>\n",
              "    </tr>\n",
              "    <tr>\n",
              "      <th>1</th>\n",
              "      <td>1</td>\n",
              "      <td>82</td>\n",
              "      <td>Seek &amp; Behold is a full length album paired wi...</td>\n",
              "      <td>Faith</td>\n",
              "      <td>US</td>\n",
              "      <td>the United States</td>\n",
              "      <td>2016-10-26 17:35:56</td>\n",
              "      <td>{\"id\":1889961770,\"name\":\"Debrianna Grace Cabit...</td>\n",
              "      <td>USD</td>\n",
              "      <td>2016-10-26 17:35:56</td>\n",
              "      <td>1.00000</td>\n",
              "      <td>10000.0</td>\n",
              "      <td>1852641962</td>\n",
              "      <td>2016-11-07 08:00:31</td>\n",
              "      <td>Debrianna Grace Cabitac: Seek &amp; Behold</td>\n",
              "      <td>debrianna-grace-cabitac-seek-and-behold</td>\n",
              "      <td>True</td>\n",
              "      <td>False</td>\n",
              "      <td>2016-12-27 08:00:31</td>\n",
              "      <td>12580.000000</td>\n",
              "      <td>128</td>\n",
              "      <td>True</td>\n",
              "      <td>True</td>\n",
              "      <td>10000.000</td>\n",
              "      <td>True</td>\n",
              "      <td>50</td>\n",
              "    </tr>\n",
              "    <tr>\n",
              "      <th>2</th>\n",
              "      <td>2</td>\n",
              "      <td>30</td>\n",
              "      <td>After a lifetime of talking myself out of shar...</td>\n",
              "      <td>Faith</td>\n",
              "      <td>US</td>\n",
              "      <td>the United States</td>\n",
              "      <td>2015-03-18 00:56:52</td>\n",
              "      <td>{\"id\":1600855781,\"name\":\"Liz Roberson\",\"is_reg...</td>\n",
              "      <td>USD</td>\n",
              "      <td>2015-03-18 00:56:52</td>\n",
              "      <td>1.00000</td>\n",
              "      <td>2000.0</td>\n",
              "      <td>64426037</td>\n",
              "      <td>2015-03-18 02:36:59</td>\n",
              "      <td>Liz Roberson Debut Album!</td>\n",
              "      <td>liz-roberson-debut-album</td>\n",
              "      <td>True</td>\n",
              "      <td>False</td>\n",
              "      <td>2015-04-17 02:37:03</td>\n",
              "      <td>2491.000000</td>\n",
              "      <td>133</td>\n",
              "      <td>True</td>\n",
              "      <td>True</td>\n",
              "      <td>2000.000</td>\n",
              "      <td>True</td>\n",
              "      <td>30</td>\n",
              "    </tr>\n",
              "    <tr>\n",
              "      <th>3</th>\n",
              "      <td>3</td>\n",
              "      <td>109</td>\n",
              "      <td>The St.Claire is a critical and creative force...</td>\n",
              "      <td>Journalism</td>\n",
              "      <td>US</td>\n",
              "      <td>the United States</td>\n",
              "      <td>2013-05-14 22:38:08</td>\n",
              "      <td>{\"id\":884672734,\"name\":\"THE ST.CLAIRE\",\"is_reg...</td>\n",
              "      <td>USD</td>\n",
              "      <td>2013-05-14 22:38:08</td>\n",
              "      <td>1.00000</td>\n",
              "      <td>8000.0</td>\n",
              "      <td>35349707</td>\n",
              "      <td>2013-05-29 01:10:21</td>\n",
              "      <td>THE ST.CLAIRE | INTO THE FUTURE</td>\n",
              "      <td>the-stclaire-into-the-future</td>\n",
              "      <td>True</td>\n",
              "      <td>False</td>\n",
              "      <td>2013-07-03 01:10:21</td>\n",
              "      <td>8300.000000</td>\n",
              "      <td>132</td>\n",
              "      <td>True</td>\n",
              "      <td>True</td>\n",
              "      <td>8000.000</td>\n",
              "      <td>True</td>\n",
              "      <td>35</td>\n",
              "    </tr>\n",
              "    <tr>\n",
              "      <th>4</th>\n",
              "      <td>4</td>\n",
              "      <td>68</td>\n",
              "      <td>Trasformiamo un Bar in un Gamers' Café!!\\nBirr...</td>\n",
              "      <td>Restaurants</td>\n",
              "      <td>IT</td>\n",
              "      <td>Italy</td>\n",
              "      <td>2016-11-13 13:47:29</td>\n",
              "      <td>{\"id\":1385445347,\"name\":\"Emanuele Iannone\",\"is...</td>\n",
              "      <td>EUR</td>\n",
              "      <td>2016-11-13 13:47:29</td>\n",
              "      <td>1.12495</td>\n",
              "      <td>6000.0</td>\n",
              "      <td>1306498006</td>\n",
              "      <td>2016-11-21 02:39:42</td>\n",
              "      <td>La Forgia degli Eroi - Gamers Café</td>\n",
              "      <td>la-forgia-degli-eroi-gamers-cafe</td>\n",
              "      <td>True</td>\n",
              "      <td>False</td>\n",
              "      <td>2017-01-07 22:59:00</td>\n",
              "      <td>7914.438485</td>\n",
              "      <td>133</td>\n",
              "      <td>True</td>\n",
              "      <td>False</td>\n",
              "      <td>6749.703</td>\n",
              "      <td>False</td>\n",
              "      <td>47</td>\n",
              "    </tr>\n",
              "  </tbody>\n",
              "</table>\n",
              "</div>"
            ],
            "text/plain": [
              "   Unnamed: 0  backers_count  ... is_usd cam_length\n",
              "0           0              1  ...   True         60\n",
              "1           1             82  ...   True         50\n",
              "2           2             30  ...   True         30\n",
              "3           3            109  ...   True         35\n",
              "4           4             68  ...  False         47\n",
              "\n",
              "[5 rows x 26 columns]"
            ]
          },
          "metadata": {
            "tags": []
          },
          "execution_count": 3
        }
      ]
    },
    {
      "cell_type": "code",
      "metadata": {
        "id": "jxCcuh2hf0nr",
        "colab_type": "code",
        "colab": {
          "base_uri": "https://localhost:8080/",
          "height": 195
        },
        "outputId": "1763a5d4-a794-441e-af4c-746f7b3281b4"
      },
      "source": [
        "df1 = df0[['category', 'staff_pick', 'description_leng', 'usd_goal', 'cam_length', 'is_successful']]\n",
        "df1.head()"
      ],
      "execution_count": null,
      "outputs": [
        {
          "output_type": "execute_result",
          "data": {
            "text/html": [
              "<div>\n",
              "<style scoped>\n",
              "    .dataframe tbody tr th:only-of-type {\n",
              "        vertical-align: middle;\n",
              "    }\n",
              "\n",
              "    .dataframe tbody tr th {\n",
              "        vertical-align: top;\n",
              "    }\n",
              "\n",
              "    .dataframe thead th {\n",
              "        text-align: right;\n",
              "    }\n",
              "</style>\n",
              "<table border=\"1\" class=\"dataframe\">\n",
              "  <thead>\n",
              "    <tr style=\"text-align: right;\">\n",
              "      <th></th>\n",
              "      <th>category</th>\n",
              "      <th>staff_pick</th>\n",
              "      <th>description_leng</th>\n",
              "      <th>usd_goal</th>\n",
              "      <th>cam_length</th>\n",
              "      <th>is_successful</th>\n",
              "    </tr>\n",
              "  </thead>\n",
              "  <tbody>\n",
              "    <tr>\n",
              "      <th>0</th>\n",
              "      <td>Video</td>\n",
              "      <td>False</td>\n",
              "      <td>123</td>\n",
              "      <td>1000.000</td>\n",
              "      <td>60</td>\n",
              "      <td>False</td>\n",
              "    </tr>\n",
              "    <tr>\n",
              "      <th>1</th>\n",
              "      <td>Faith</td>\n",
              "      <td>False</td>\n",
              "      <td>128</td>\n",
              "      <td>10000.000</td>\n",
              "      <td>50</td>\n",
              "      <td>True</td>\n",
              "    </tr>\n",
              "    <tr>\n",
              "      <th>2</th>\n",
              "      <td>Faith</td>\n",
              "      <td>False</td>\n",
              "      <td>133</td>\n",
              "      <td>2000.000</td>\n",
              "      <td>30</td>\n",
              "      <td>True</td>\n",
              "    </tr>\n",
              "    <tr>\n",
              "      <th>3</th>\n",
              "      <td>Journalism</td>\n",
              "      <td>False</td>\n",
              "      <td>132</td>\n",
              "      <td>8000.000</td>\n",
              "      <td>35</td>\n",
              "      <td>True</td>\n",
              "    </tr>\n",
              "    <tr>\n",
              "      <th>4</th>\n",
              "      <td>Restaurants</td>\n",
              "      <td>False</td>\n",
              "      <td>133</td>\n",
              "      <td>6749.703</td>\n",
              "      <td>47</td>\n",
              "      <td>True</td>\n",
              "    </tr>\n",
              "  </tbody>\n",
              "</table>\n",
              "</div>"
            ],
            "text/plain": [
              "      category  staff_pick  ...  cam_length  is_successful\n",
              "0        Video       False  ...          60          False\n",
              "1        Faith       False  ...          50           True\n",
              "2        Faith       False  ...          30           True\n",
              "3   Journalism       False  ...          35           True\n",
              "4  Restaurants       False  ...          47           True\n",
              "\n",
              "[5 rows x 6 columns]"
            ]
          },
          "metadata": {
            "tags": []
          },
          "execution_count": 4
        }
      ]
    },
    {
      "cell_type": "markdown",
      "metadata": {
        "id": "nT1NVIRkjrBO",
        "colab_type": "text"
      },
      "source": [
        "# \"Spotlight\" was the leaky feature"
      ]
    },
    {
      "cell_type": "code",
      "metadata": {
        "id": "-susOVomYtnu",
        "colab_type": "code",
        "colab": {}
      },
      "source": [
        "features = [ 'category', 'description_leng', 'usd_goal', 'cam_length']\n",
        "\n",
        "target = ['is_successful']"
      ],
      "execution_count": null,
      "outputs": []
    },
    {
      "cell_type": "code",
      "metadata": {
        "id": "ia7FYAGuk6eA",
        "colab_type": "code",
        "colab": {}
      },
      "source": [
        ""
      ],
      "execution_count": null,
      "outputs": []
    },
    {
      "cell_type": "code",
      "metadata": {
        "id": "hXTTaA40ZEKu",
        "colab_type": "code",
        "colab": {
          "base_uri": "https://localhost:8080/",
          "height": 34
        },
        "outputId": "a430f289-928f-4916-8113-687236dae473"
      },
      "source": [
        "train , test = train_test_split(df1,train_size=0.10,test_size=0.90)\n",
        "\n",
        "train.shape , test.shape"
      ],
      "execution_count": null,
      "outputs": [
        {
          "output_type": "execute_result",
          "data": {
            "text/plain": [
              "((20944, 6), (188501, 6))"
            ]
          },
          "metadata": {
            "tags": []
          },
          "execution_count": 6
        }
      ]
    },
    {
      "cell_type": "code",
      "metadata": {
        "id": "mwZNLzTZYyHD",
        "colab_type": "code",
        "colab": {}
      },
      "source": [
        "x_train = train[features]\n",
        "y_train = train[target]\n",
        "\n",
        "\n",
        "x_test = test[features]\n",
        "y_test = test[target]"
      ],
      "execution_count": null,
      "outputs": []
    },
    {
      "cell_type": "code",
      "metadata": {
        "id": "ULVxkacTNpGJ",
        "colab_type": "code",
        "colab": {}
      },
      "source": [
        "import pickle "
      ],
      "execution_count": null,
      "outputs": []
    },
    {
      "cell_type": "code",
      "metadata": {
        "id": "7XPoGul3ZND9",
        "colab_type": "code",
        "colab": {
          "base_uri": "https://localhost:8080/",
          "height": 373
        },
        "outputId": "da4fc427-217e-4f5a-c2db-60b7ceb4d6eb"
      },
      "source": [
        "pipeline = make_pipeline(\n",
        "    ce.OneHotEncoder(use_cat_names=True),\n",
        "    RandomForestClassifier(random_state=42, n_jobs=-1)\n",
        ")\n",
        "\n",
        "pipeline.fit(x_train, y_train)\n"
      ],
      "execution_count": null,
      "outputs": [
        {
          "output_type": "stream",
          "text": [
            "/usr/local/lib/python3.6/dist-packages/sklearn/pipeline.py:354: DataConversionWarning: A column-vector y was passed when a 1d array was expected. Please change the shape of y to (n_samples,), for example using ravel().\n",
            "  self._final_estimator.fit(Xt, y, **fit_params)\n"
          ],
          "name": "stderr"
        },
        {
          "output_type": "execute_result",
          "data": {
            "text/plain": [
              "Pipeline(memory=None,\n",
              "         steps=[('onehotencoder',\n",
              "                 OneHotEncoder(cols=['category'], drop_invariant=False,\n",
              "                               handle_missing='value', handle_unknown='value',\n",
              "                               return_df=True, use_cat_names=True, verbose=0)),\n",
              "                ('randomforestclassifier',\n",
              "                 RandomForestClassifier(bootstrap=True, ccp_alpha=0.0,\n",
              "                                        class_weight=None, criterion='gini',\n",
              "                                        max_depth=None, max_features='auto',\n",
              "                                        max_leaf_nodes=None, max_samples=None,\n",
              "                                        min_impurity_decrease=0.0,\n",
              "                                        min_impurity_split=None,\n",
              "                                        min_samples_leaf=1, min_samples_split=2,\n",
              "                                        min_weight_fraction_leaf=0.0,\n",
              "                                        n_estimators=100, n_jobs=-1,\n",
              "                                        oob_score=False, random_state=42,\n",
              "                                        verbose=0, warm_start=False))],\n",
              "         verbose=False)"
            ]
          },
          "metadata": {
            "tags": []
          },
          "execution_count": 9
        }
      ]
    },
    {
      "cell_type": "code",
      "metadata": {
        "id": "d3q3oW4W1DQ0",
        "colab_type": "code",
        "colab": {}
      },
      "source": [
        "from sklearn.metrics import accuracy_score"
      ],
      "execution_count": null,
      "outputs": []
    },
    {
      "cell_type": "code",
      "metadata": {
        "id": "UBlB1rsX0ynp",
        "colab_type": "code",
        "colab": {}
      },
      "source": [
        "y_pred = pipeline.predict(x_test)"
      ],
      "execution_count": null,
      "outputs": []
    },
    {
      "cell_type": "code",
      "metadata": {
        "id": "e4bcZGJt04eB",
        "colab_type": "code",
        "colab": {
          "base_uri": "https://localhost:8080/",
          "height": 34
        },
        "outputId": "bc5ade3f-4e93-4240-b0d3-c728c1af29f2"
      },
      "source": [
        "print(accuracy_score(y_test,y_pred))"
      ],
      "execution_count": null,
      "outputs": [
        {
          "output_type": "stream",
          "text": [
            "0.753051707948499\n"
          ],
          "name": "stdout"
        }
      ]
    },
    {
      "cell_type": "code",
      "metadata": {
        "id": "Uc9iv5d_jYrZ",
        "colab_type": "code",
        "colab": {
          "base_uri": "https://localhost:8080/",
          "height": 34
        },
        "outputId": "d7ee2e62-8362-4c1f-b266-42758daa20bb"
      },
      "source": [
        "%matplotlib inline\n",
        "import matplotlib.pyplot as plt\n",
        "\n",
        "# Get encoded values\n",
        "encoder = pipeline.named_steps['onehotencoder']\n",
        "encoded = encoder.transform(x_train)\n",
        "print ('Print x_train shape after encoding', encoded.shape)\n",
        "\n",
        "# Get feature importances\n",
        "rf = pipeline.named_steps['randomforestclassifier']\n",
        "importances = pd.Series(rf.feature_importances_, encoded.columns)\n"
      ],
      "execution_count": null,
      "outputs": [
        {
          "output_type": "stream",
          "text": [
            "Print x_train shape after encoding (20944, 163)\n"
          ],
          "name": "stdout"
        }
      ]
    },
    {
      "cell_type": "code",
      "metadata": {
        "id": "bzijDVDgjPUk",
        "colab_type": "code",
        "colab": {
          "base_uri": "https://localhost:8080/",
          "height": 607
        },
        "outputId": "1b18e410-4bdc-4192-b6da-80840b15c239"
      },
      "source": [
        "n = 20\n",
        "plt.figure(figsize=(10, n/2))\n",
        "plt.title(f'Top {n} features')\n",
        "importances.sort_values()[-n:].plot.barh();\n"
      ],
      "execution_count": null,
      "outputs": [
        {
          "output_type": "display_data",
          "data": {
            "image/png": "[encoded data removed]",
            "text/plain": [
              "<Figure size 720x720 with 1 Axes>"
            ]
          },
          "metadata": {
            "tags": [],
            "needs_background": "light"
          }
        }
      ]
    },
    {
      "cell_type": "code",
      "metadata": {
        "id": "jO64OfgcAqjn",
        "colab_type": "code",
        "colab": {}
      },
      "source": [
        "import pickle "
      ],
      "execution_count": null,
      "outputs": []
    },
    {
      "cell_type": "code",
      "metadata": {
        "id": "E-TDMF9-AhG3",
        "colab_type": "code",
        "colab": {
          "base_uri": "https://localhost:8080/",
          "height": 34
        },
        "outputId": "6325328c-2a6b-454d-d601-eda68d0ba7f6"
      },
      "source": [
        "\"\"\"\n",
        "pickle.dump(pipeline, open(\"model.p\", \"wb\")) \n",
        "from_pickle = pickle.load(open(\"model.p\", \"rb\"))\n",
        "\"\"\""
      ],
      "execution_count": null,
      "outputs": [
        {
          "output_type": "execute_result",
          "data": {
            "text/plain": [
              "'\\npickle.dump(pipeline, open(\"model.p\", \"wb\")) \\nfrom_pickle = pickle.load(open(\"model.p\", \"rb\"))\\n'"
            ]
          },
          "metadata": {
            "tags": []
          },
          "execution_count": 16
        }
      ]
    },
    {
      "cell_type": "code",
      "metadata": {
        "id": "UZ1Yj9ta49zQ",
        "colab_type": "code",
        "colab": {
          "base_uri": "https://localhost:8080/",
          "height": 588
        },
        "outputId": "efd9afb2-9dfb-43a3-e9c1-3391a6a3ee4e"
      },
      "source": [
        "df1.category.unique()"
      ],
      "execution_count": null,
      "outputs": [
        {
          "output_type": "execute_result",
          "data": {
            "text/plain": [
              "array(['Video', 'Faith', 'Journalism', 'Restaurants', 'Hip-Hop', 'Shorts',\n",
              "       'Indie Rock', 'R&B', 'Food Trucks', 'Printing', 'Music Videos',\n",
              "       'Plays', 'Comic Books', 'Playing Cards', 'Photo',\n",
              "       'Camera Equipment', 'Live Games', 'Hardware', 'Classical Music',\n",
              "       'Drama', 'Apparel', 'Painting', 'DIY', 'Thrillers', 'Places',\n",
              "       'Literary Journals', 'Science Fiction', 'Web', 'Animation',\n",
              "       'Farms', 'World Music', 'Music', 'Country & Folk', 'Rock', 'Metal',\n",
              "       'Technology', 'Musical', 'Gadgets', 'Animals', 'Installations',\n",
              "       'Knitting', 'Jazz', 'Space Exploration', 'Apps', 'Webseries',\n",
              "       'Software', 'Interactive Design', 'Sound', 'Residencies',\n",
              "       'DIY Electronics', 'Pop', 'Wearables', 'Blues', 'Robots',\n",
              "       'Chiptune', '3D Printing', 'Illustration', 'Woodworking', 'Punk',\n",
              "       'Graphic Novels', 'Audio', 'Weaving', 'Small Batch', 'Fiction',\n",
              "       'Movie Theaters', 'Civic Design', 'Comedy', \"Children's Books\",\n",
              "       'Bacon', 'Experimental', 'Art Books', 'Nonfiction', 'Crochet',\n",
              "       'Kids', 'Crafts', 'Fabrication Tools', 'Glass', 'Academic',\n",
              "       'Immersive', 'Radio & Podcasts', 'Poetry', 'Puzzles', 'Publishing',\n",
              "       'Pet Fashion', 'Anthologies', 'Theater', 'Photobooks',\n",
              "       'Letterpress', 'Candles', 'Calendars', 'Embroidery', 'Young Adult',\n",
              "       'Pottery', 'Latin', 'Spaces', 'Stationery', 'Periodicals',\n",
              "       'Festivals', 'Drinks', 'Performances', 'People', 'Mobile Games',\n",
              "       'Tabletop Games', 'Fine Art', 'Film & Video', 'Dance',\n",
              "       'Electronic Music', 'Food', 'Jewelry', 'Family', 'Graphic Design',\n",
              "       'Ceramics', \"Farmer's Markets\", 'Documentary', 'Cookbooks',\n",
              "       'Photography', 'Vegan', 'Narrative Film', 'Horror', 'Television',\n",
              "       'Nature', 'Workshops', 'Action', 'Events', 'Sculpture',\n",
              "       'Literary Spaces', 'Digital Art', 'Art', 'Print', 'Games',\n",
              "       'Community Gardens', 'Video Art', 'Video Games', 'Architecture',\n",
              "       'Gaming Hardware', 'Mixed Media', 'Social Practice', 'Zines',\n",
              "       'Quilts', 'Taxidermy', 'Toys', 'Comics', 'Ready-to-wear',\n",
              "       'Webcomics', 'Fantasy', 'Romance', 'Product Design', 'Accessories',\n",
              "       'Childrenswear', 'Flight', 'Typography', 'Makerspaces', 'Fashion',\n",
              "       'Footwear', 'Public Art', 'Performance Art', 'Couture',\n",
              "       'Conceptual Art', 'Textiles', 'Translations'], dtype=object)"
            ]
          },
          "metadata": {
            "tags": []
          },
          "execution_count": 17
        }
      ]
    },
    {
      "cell_type": "code",
      "metadata": {
        "id": "Ugt8Jzrc9Cnb",
        "colab_type": "code",
        "colab": {
          "base_uri": "https://localhost:8080/",
          "height": 50
        },
        "outputId": "77f82d37-ab75-4327-b676-720bd184440c"
      },
      "source": [
        "print(df1.description_leng.min())\n",
        "print(df1.description_leng.max())"
      ],
      "execution_count": null,
      "outputs": [
        {
          "output_type": "stream",
          "text": [
            "1\n",
            "196\n"
          ],
          "name": "stdout"
        }
      ]
    },
    {
      "cell_type": "code",
      "metadata": {
        "id": "Euy4LG059UmV",
        "colab_type": "code",
        "colab": {
          "base_uri": "https://localhost:8080/",
          "height": 50
        },
        "outputId": "511b5efc-0038-4add-8327-fddee5268419"
      },
      "source": [
        "print(df1.usd_goal.min())\n",
        "print(df1.usd_goal.max())"
      ],
      "execution_count": null,
      "outputs": [
        {
          "output_type": "stream",
          "text": [
            "0.01\n",
            "125509884.0\n"
          ],
          "name": "stdout"
        }
      ]
    },
    {
      "cell_type": "code",
      "metadata": {
        "id": "w37qOrg09ry8",
        "colab_type": "code",
        "colab": {
          "base_uri": "https://localhost:8080/",
          "height": 50
        },
        "outputId": "3f776615-c9ba-45d4-953e-72444603e9f8"
      },
      "source": [
        "print(df1.cam_length.min())\n",
        "print(df1.cam_length.max())"
      ],
      "execution_count": null,
      "outputs": [
        {
          "output_type": "stream",
          "text": [
            "0\n",
            "97\n"
          ],
          "name": "stdout"
        }
      ]
    },
    {
      "cell_type": "code",
      "metadata": {
        "id": "_H8OWwWMC-Nz",
        "colab_type": "code",
        "colab": {
          "base_uri": "https://localhost:8080/",
          "height": 635
        },
        "outputId": "e3dae9c5-ce5a-48ed-f7cf-c08222d9be63"
      },
      "source": [
        "df_st_true = df0[df0['staff_pick'] == True]\n",
        "df_st_true.head()"
      ],
      "execution_count": null,
      "outputs": [
        {
          "output_type": "execute_result",
          "data": {
            "text/html": [
              "<div>\n",
              "<style scoped>\n",
              "    .dataframe tbody tr th:only-of-type {\n",
              "        vertical-align: middle;\n",
              "    }\n",
              "\n",
              "    .dataframe tbody tr th {\n",
              "        vertical-align: top;\n",
              "    }\n",
              "\n",
              "    .dataframe thead th {\n",
              "        text-align: right;\n",
              "    }\n",
              "</style>\n",
              "<table border=\"1\" class=\"dataframe\">\n",
              "  <thead>\n",
              "    <tr style=\"text-align: right;\">\n",
              "      <th></th>\n",
              "      <th>Unnamed: 0</th>\n",
              "      <th>backers_count</th>\n",
              "      <th>blurb</th>\n",
              "      <th>category</th>\n",
              "      <th>country</th>\n",
              "      <th>country_displayable_name</th>\n",
              "      <th>created_at</th>\n",
              "      <th>creator</th>\n",
              "      <th>currency</th>\n",
              "      <th>deadline</th>\n",
              "      <th>fx_rate</th>\n",
              "      <th>goal</th>\n",
              "      <th>id</th>\n",
              "      <th>launched_at</th>\n",
              "      <th>name</th>\n",
              "      <th>slug</th>\n",
              "      <th>spotlight</th>\n",
              "      <th>staff_pick</th>\n",
              "      <th>state_changed_at</th>\n",
              "      <th>usd_pledged</th>\n",
              "      <th>description_leng</th>\n",
              "      <th>is_successful</th>\n",
              "      <th>is_usa</th>\n",
              "      <th>usd_goal</th>\n",
              "      <th>is_usd</th>\n",
              "      <th>cam_length</th>\n",
              "    </tr>\n",
              "  </thead>\n",
              "  <tbody>\n",
              "    <tr>\n",
              "      <th>11</th>\n",
              "      <td>11</td>\n",
              "      <td>18</td>\n",
              "      <td>Woodcut block printing is simple process but p...</td>\n",
              "      <td>Printing</td>\n",
              "      <td>US</td>\n",
              "      <td>the United States</td>\n",
              "      <td>2014-10-20 04:55:26</td>\n",
              "      <td>{\"id\":1120892008,\"name\":\"chris Siegrist\",\"is_r...</td>\n",
              "      <td>USD</td>\n",
              "      <td>2014-10-20 04:55:26</td>\n",
              "      <td>1.000000</td>\n",
              "      <td>150.0</td>\n",
              "      <td>1388610126</td>\n",
              "      <td>2014-10-21 22:39:47</td>\n",
              "      <td>Hand Printed Christmas Cards from my new studi...</td>\n",
              "      <td>hand-printed-christmas-cards-from-my-new-studi...</td>\n",
              "      <td>True</td>\n",
              "      <td>True</td>\n",
              "      <td>2014-11-10 23:39:47</td>\n",
              "      <td>182.000000</td>\n",
              "      <td>132</td>\n",
              "      <td>True</td>\n",
              "      <td>True</td>\n",
              "      <td>150.000</td>\n",
              "      <td>True</td>\n",
              "      <td>20</td>\n",
              "    </tr>\n",
              "    <tr>\n",
              "      <th>15</th>\n",
              "      <td>15</td>\n",
              "      <td>200</td>\n",
              "      <td>Honest Accomplice Theatre produces theatre for...</td>\n",
              "      <td>Plays</td>\n",
              "      <td>US</td>\n",
              "      <td>the United States</td>\n",
              "      <td>2014-12-28 00:15:12</td>\n",
              "      <td>{\"id\":1041359003,\"name\":\"Honest Accomplice The...</td>\n",
              "      <td>USD</td>\n",
              "      <td>2014-12-28 00:15:12</td>\n",
              "      <td>1.000000</td>\n",
              "      <td>12000.0</td>\n",
              "      <td>1860159809</td>\n",
              "      <td>2015-03-05 21:19:17</td>\n",
              "      <td>Honest Accomplice Theatre 2015-16 Season</td>\n",
              "      <td>honest-accomplice-theatre-2015-16-season</td>\n",
              "      <td>True</td>\n",
              "      <td>True</td>\n",
              "      <td>2015-04-04 20:19:18</td>\n",
              "      <td>12095.000000</td>\n",
              "      <td>61</td>\n",
              "      <td>True</td>\n",
              "      <td>True</td>\n",
              "      <td>12000.000</td>\n",
              "      <td>True</td>\n",
              "      <td>29</td>\n",
              "    </tr>\n",
              "    <tr>\n",
              "      <th>21</th>\n",
              "      <td>21</td>\n",
              "      <td>80</td>\n",
              "      <td>Based on a diary entry written 6 years ago, 'S...</td>\n",
              "      <td>Shorts</td>\n",
              "      <td>US</td>\n",
              "      <td>the United States</td>\n",
              "      <td>2016-01-14 21:18:29</td>\n",
              "      <td>{\"id\":1939246797,\"name\":\"Sophia Kiapos\",\"is_re...</td>\n",
              "      <td>USD</td>\n",
              "      <td>2016-01-14 21:18:29</td>\n",
              "      <td>1.000000</td>\n",
              "      <td>7000.0</td>\n",
              "      <td>412665561</td>\n",
              "      <td>2016-01-22 22:54:59</td>\n",
              "      <td>Sophie (Quai du Louvre)</td>\n",
              "      <td>sophie-quai-du-louvre</td>\n",
              "      <td>True</td>\n",
              "      <td>True</td>\n",
              "      <td>2016-02-22 07:11:01</td>\n",
              "      <td>8635.000000</td>\n",
              "      <td>132</td>\n",
              "      <td>True</td>\n",
              "      <td>True</td>\n",
              "      <td>7000.000</td>\n",
              "      <td>True</td>\n",
              "      <td>30</td>\n",
              "    </tr>\n",
              "    <tr>\n",
              "      <th>27</th>\n",
              "      <td>27</td>\n",
              "      <td>1649</td>\n",
              "      <td>Two new records, one solo, one full-band, to b...</td>\n",
              "      <td>Indie Rock</td>\n",
              "      <td>US</td>\n",
              "      <td>the United States</td>\n",
              "      <td>2013-01-01 02:46:24</td>\n",
              "      <td>{\"id\":958123444,\"name\":\"Kevin Devine\",\"is_regi...</td>\n",
              "      <td>USD</td>\n",
              "      <td>2013-01-01 02:46:24</td>\n",
              "      <td>1.000000</td>\n",
              "      <td>50000.0</td>\n",
              "      <td>921469266</td>\n",
              "      <td>2013-01-14 17:02:40</td>\n",
              "      <td>Making LP7 (KD w/ Rob Schnapf) &amp; LP8 (KD+GDB w...</td>\n",
              "      <td>making-lp7-kd-w-rob-schnapf-and-lp8-kd-gdb-w-j...</td>\n",
              "      <td>True</td>\n",
              "      <td>True</td>\n",
              "      <td>2013-02-28 17:02:40</td>\n",
              "      <td>114805.470000</td>\n",
              "      <td>129</td>\n",
              "      <td>True</td>\n",
              "      <td>True</td>\n",
              "      <td>50000.000</td>\n",
              "      <td>True</td>\n",
              "      <td>45</td>\n",
              "    </tr>\n",
              "    <tr>\n",
              "      <th>36</th>\n",
              "      <td>36</td>\n",
              "      <td>72</td>\n",
              "      <td>SNOW - In desolate farmland in the midst of wi...</td>\n",
              "      <td>Drama</td>\n",
              "      <td>AU</td>\n",
              "      <td>Australia</td>\n",
              "      <td>2015-12-08 07:57:29</td>\n",
              "      <td>{\"id\":1612841410,\"name\":\"The Short Film Snow\",...</td>\n",
              "      <td>AUD</td>\n",
              "      <td>2015-12-08 07:57:29</td>\n",
              "      <td>0.686543</td>\n",
              "      <td>15000.0</td>\n",
              "      <td>547129302</td>\n",
              "      <td>2016-01-05 22:42:30</td>\n",
              "      <td>SNOW - A short film by Alex Murawski</td>\n",
              "      <td>snow-a-short-film-by-alex-murawski</td>\n",
              "      <td>True</td>\n",
              "      <td>True</td>\n",
              "      <td>2016-01-25 22:42:31</td>\n",
              "      <td>10853.252615</td>\n",
              "      <td>130</td>\n",
              "      <td>True</td>\n",
              "      <td>False</td>\n",
              "      <td>10298.145</td>\n",
              "      <td>False</td>\n",
              "      <td>20</td>\n",
              "    </tr>\n",
              "  </tbody>\n",
              "</table>\n",
              "</div>"
            ],
            "text/plain": [
              "    Unnamed: 0  backers_count  ... is_usd cam_length\n",
              "11          11             18  ...   True         20\n",
              "15          15            200  ...   True         29\n",
              "21          21             80  ...   True         30\n",
              "27          27           1649  ...   True         45\n",
              "36          36             72  ...  False         20\n",
              "\n",
              "[5 rows x 26 columns]"
            ]
          },
          "metadata": {
            "tags": []
          },
          "execution_count": 36
        }
      ]
    },
    {
      "cell_type": "code",
      "metadata": {
        "id": "gbQQwmIuNztS",
        "colab_type": "code",
        "colab": {}
      },
      "source": [
        ""
      ],
      "execution_count": null,
      "outputs": []
    },
    {
      "cell_type": "code",
      "metadata": {
        "id": "sDWVyydgMxWP",
        "colab_type": "code",
        "colab": {
          "base_uri": "https://localhost:8080/",
          "height": 534
        },
        "outputId": "76fec1aa-54ec-4687-9e57-705bf71d5223"
      },
      "source": [
        "df_st_false = df0[df0['staff_pick'] == False]\n",
        "df_st_false.head()"
      ],
      "execution_count": null,
      "outputs": [
        {
          "output_type": "execute_result",
          "data": {
            "text/html": [
              "<div>\n",
              "<style scoped>\n",
              "    .dataframe tbody tr th:only-of-type {\n",
              "        vertical-align: middle;\n",
              "    }\n",
              "\n",
              "    .dataframe tbody tr th {\n",
              "        vertical-align: top;\n",
              "    }\n",
              "\n",
              "    .dataframe thead th {\n",
              "        text-align: right;\n",
              "    }\n",
              "</style>\n",
              "<table border=\"1\" class=\"dataframe\">\n",
              "  <thead>\n",
              "    <tr style=\"text-align: right;\">\n",
              "      <th></th>\n",
              "      <th>Unnamed: 0</th>\n",
              "      <th>backers_count</th>\n",
              "      <th>blurb</th>\n",
              "      <th>category</th>\n",
              "      <th>country</th>\n",
              "      <th>country_displayable_name</th>\n",
              "      <th>created_at</th>\n",
              "      <th>creator</th>\n",
              "      <th>currency</th>\n",
              "      <th>deadline</th>\n",
              "      <th>fx_rate</th>\n",
              "      <th>goal</th>\n",
              "      <th>id</th>\n",
              "      <th>launched_at</th>\n",
              "      <th>name</th>\n",
              "      <th>slug</th>\n",
              "      <th>spotlight</th>\n",
              "      <th>staff_pick</th>\n",
              "      <th>state_changed_at</th>\n",
              "      <th>usd_pledged</th>\n",
              "      <th>description_leng</th>\n",
              "      <th>is_successful</th>\n",
              "      <th>is_usa</th>\n",
              "      <th>usd_goal</th>\n",
              "      <th>is_usd</th>\n",
              "      <th>cam_length</th>\n",
              "    </tr>\n",
              "  </thead>\n",
              "  <tbody>\n",
              "    <tr>\n",
              "      <th>0</th>\n",
              "      <td>0</td>\n",
              "      <td>1</td>\n",
              "      <td>This is a project I created to find out why 10...</td>\n",
              "      <td>Video</td>\n",
              "      <td>US</td>\n",
              "      <td>the United States</td>\n",
              "      <td>2017-05-05 22:08:31</td>\n",
              "      <td>{\"id\":220745515,\"name\":\"Stephanie Balfrey\",\"sl...</td>\n",
              "      <td>USD</td>\n",
              "      <td>2017-05-05 22:08:31</td>\n",
              "      <td>1.00000</td>\n",
              "      <td>1000.0</td>\n",
              "      <td>104592348</td>\n",
              "      <td>2017-05-06 00:02:31</td>\n",
              "      <td>Breast Cancer Mission Impossible</td>\n",
              "      <td>breast-cancer-mission-impossible</td>\n",
              "      <td>False</td>\n",
              "      <td>False</td>\n",
              "      <td>2017-07-05 00:02:31</td>\n",
              "      <td>20.000000</td>\n",
              "      <td>123</td>\n",
              "      <td>False</td>\n",
              "      <td>True</td>\n",
              "      <td>1000.000</td>\n",
              "      <td>True</td>\n",
              "      <td>60</td>\n",
              "    </tr>\n",
              "    <tr>\n",
              "      <th>1</th>\n",
              "      <td>1</td>\n",
              "      <td>82</td>\n",
              "      <td>Seek &amp; Behold is a full length album paired wi...</td>\n",
              "      <td>Faith</td>\n",
              "      <td>US</td>\n",
              "      <td>the United States</td>\n",
              "      <td>2016-10-26 17:35:56</td>\n",
              "      <td>{\"id\":1889961770,\"name\":\"Debrianna Grace Cabit...</td>\n",
              "      <td>USD</td>\n",
              "      <td>2016-10-26 17:35:56</td>\n",
              "      <td>1.00000</td>\n",
              "      <td>10000.0</td>\n",
              "      <td>1852641962</td>\n",
              "      <td>2016-11-07 08:00:31</td>\n",
              "      <td>Debrianna Grace Cabitac: Seek &amp; Behold</td>\n",
              "      <td>debrianna-grace-cabitac-seek-and-behold</td>\n",
              "      <td>True</td>\n",
              "      <td>False</td>\n",
              "      <td>2016-12-27 08:00:31</td>\n",
              "      <td>12580.000000</td>\n",
              "      <td>128</td>\n",
              "      <td>True</td>\n",
              "      <td>True</td>\n",
              "      <td>10000.000</td>\n",
              "      <td>True</td>\n",
              "      <td>50</td>\n",
              "    </tr>\n",
              "    <tr>\n",
              "      <th>2</th>\n",
              "      <td>2</td>\n",
              "      <td>30</td>\n",
              "      <td>After a lifetime of talking myself out of shar...</td>\n",
              "      <td>Faith</td>\n",
              "      <td>US</td>\n",
              "      <td>the United States</td>\n",
              "      <td>2015-03-18 00:56:52</td>\n",
              "      <td>{\"id\":1600855781,\"name\":\"Liz Roberson\",\"is_reg...</td>\n",
              "      <td>USD</td>\n",
              "      <td>2015-03-18 00:56:52</td>\n",
              "      <td>1.00000</td>\n",
              "      <td>2000.0</td>\n",
              "      <td>64426037</td>\n",
              "      <td>2015-03-18 02:36:59</td>\n",
              "      <td>Liz Roberson Debut Album!</td>\n",
              "      <td>liz-roberson-debut-album</td>\n",
              "      <td>True</td>\n",
              "      <td>False</td>\n",
              "      <td>2015-04-17 02:37:03</td>\n",
              "      <td>2491.000000</td>\n",
              "      <td>133</td>\n",
              "      <td>True</td>\n",
              "      <td>True</td>\n",
              "      <td>2000.000</td>\n",
              "      <td>True</td>\n",
              "      <td>30</td>\n",
              "    </tr>\n",
              "    <tr>\n",
              "      <th>3</th>\n",
              "      <td>3</td>\n",
              "      <td>109</td>\n",
              "      <td>The St.Claire is a critical and creative force...</td>\n",
              "      <td>Journalism</td>\n",
              "      <td>US</td>\n",
              "      <td>the United States</td>\n",
              "      <td>2013-05-14 22:38:08</td>\n",
              "      <td>{\"id\":884672734,\"name\":\"THE ST.CLAIRE\",\"is_reg...</td>\n",
              "      <td>USD</td>\n",
              "      <td>2013-05-14 22:38:08</td>\n",
              "      <td>1.00000</td>\n",
              "      <td>8000.0</td>\n",
              "      <td>35349707</td>\n",
              "      <td>2013-05-29 01:10:21</td>\n",
              "      <td>THE ST.CLAIRE | INTO THE FUTURE</td>\n",
              "      <td>the-stclaire-into-the-future</td>\n",
              "      <td>True</td>\n",
              "      <td>False</td>\n",
              "      <td>2013-07-03 01:10:21</td>\n",
              "      <td>8300.000000</td>\n",
              "      <td>132</td>\n",
              "      <td>True</td>\n",
              "      <td>True</td>\n",
              "      <td>8000.000</td>\n",
              "      <td>True</td>\n",
              "      <td>35</td>\n",
              "    </tr>\n",
              "    <tr>\n",
              "      <th>4</th>\n",
              "      <td>4</td>\n",
              "      <td>68</td>\n",
              "      <td>Trasformiamo un Bar in un Gamers' Café!!\\nBirr...</td>\n",
              "      <td>Restaurants</td>\n",
              "      <td>IT</td>\n",
              "      <td>Italy</td>\n",
              "      <td>2016-11-13 13:47:29</td>\n",
              "      <td>{\"id\":1385445347,\"name\":\"Emanuele Iannone\",\"is...</td>\n",
              "      <td>EUR</td>\n",
              "      <td>2016-11-13 13:47:29</td>\n",
              "      <td>1.12495</td>\n",
              "      <td>6000.0</td>\n",
              "      <td>1306498006</td>\n",
              "      <td>2016-11-21 02:39:42</td>\n",
              "      <td>La Forgia degli Eroi - Gamers Café</td>\n",
              "      <td>la-forgia-degli-eroi-gamers-cafe</td>\n",
              "      <td>True</td>\n",
              "      <td>False</td>\n",
              "      <td>2017-01-07 22:59:00</td>\n",
              "      <td>7914.438485</td>\n",
              "      <td>133</td>\n",
              "      <td>True</td>\n",
              "      <td>False</td>\n",
              "      <td>6749.703</td>\n",
              "      <td>False</td>\n",
              "      <td>47</td>\n",
              "    </tr>\n",
              "  </tbody>\n",
              "</table>\n",
              "</div>"
            ],
            "text/plain": [
              "   Unnamed: 0  backers_count  ... is_usd cam_length\n",
              "0           0              1  ...   True         60\n",
              "1           1             82  ...   True         50\n",
              "2           2             30  ...   True         30\n",
              "3           3            109  ...   True         35\n",
              "4           4             68  ...  False         47\n",
              "\n",
              "[5 rows x 26 columns]"
            ]
          },
          "metadata": {
            "tags": []
          },
          "execution_count": 22
        }
      ]
    },
    {
      "cell_type": "code",
      "metadata": {
        "id": "TCmptcENQigs",
        "colab_type": "code",
        "colab": {
          "base_uri": "https://localhost:8080/",
          "height": 34
        },
        "outputId": "4b56ff0e-6984-4186-f789-e16901bf7629"
      },
      "source": [
        "df_st_true.shape, df_st_false.shape"
      ],
      "execution_count": null,
      "outputs": [
        {
          "output_type": "execute_result",
          "data": {
            "text/plain": [
              "((27494, 26), (181951, 26))"
            ]
          },
          "metadata": {
            "tags": []
          },
          "execution_count": 23
        }
      ]
    },
    {
      "cell_type": "code",
      "metadata": {
        "id": "rIx4QV7oP5Go",
        "colab_type": "code",
        "colab": {
          "base_uri": "https://localhost:8080/",
          "height": 34
        },
        "outputId": "67b70146-e384-40e0-d34e-dc7e3d59bdf0"
      },
      "source": [
        "x_test.shape , x_train.shape"
      ],
      "execution_count": null,
      "outputs": [
        {
          "output_type": "execute_result",
          "data": {
            "text/plain": [
              "((188501, 4), (20944, 4))"
            ]
          },
          "metadata": {
            "tags": []
          },
          "execution_count": 24
        }
      ]
    },
    {
      "cell_type": "code",
      "metadata": {
        "id": "njMLfbTNRz8x",
        "colab_type": "code",
        "colab": {}
      },
      "source": [
        "st_true_success = df_st_true[df_st_true['is_successful'] == True]\n",
        "st_true_fail = df_st_true[df_st_true['is_successful'] == False]\n",
        "st_false_success = df_st_false[df_st_false['is_successful'] == True]\n",
        "st_false_fail = df_st_false[df_st_false['is_successful'] == False]\n"
      ],
      "execution_count": null,
      "outputs": []
    },
    {
      "cell_type": "code",
      "metadata": {
        "id": "i3J88BM7SiUi",
        "colab_type": "code",
        "colab": {
          "base_uri": "https://localhost:8080/",
          "height": 34
        },
        "outputId": "e1518896-b8d4-4e89-d8ab-20d33d8f6f3c"
      },
      "source": [
        "# Staff picked and successful\n",
        "st_true_success.shape[0]"
      ],
      "execution_count": null,
      "outputs": [
        {
          "output_type": "execute_result",
          "data": {
            "text/plain": [
              "24486"
            ]
          },
          "metadata": {
            "tags": []
          },
          "execution_count": 26
        }
      ]
    },
    {
      "cell_type": "code",
      "metadata": {
        "id": "cGRcRVdrSnQq",
        "colab_type": "code",
        "colab": {
          "base_uri": "https://localhost:8080/",
          "height": 34
        },
        "outputId": "6ef9e986-6f1d-403d-a780-42f94e41a630"
      },
      "source": [
        "# Staff picked and failed\n",
        "st_true_fail.shape[0]"
      ],
      "execution_count": null,
      "outputs": [
        {
          "output_type": "execute_result",
          "data": {
            "text/plain": [
              "3008"
            ]
          },
          "metadata": {
            "tags": []
          },
          "execution_count": 27
        }
      ]
    },
    {
      "cell_type": "code",
      "metadata": {
        "id": "EVQBK4QdSqAj",
        "colab_type": "code",
        "colab": {
          "base_uri": "https://localhost:8080/",
          "height": 34
        },
        "outputId": "bf3d164d-8ffe-4bdd-f9db-48d90cbfc994"
      },
      "source": [
        "# Not Staff picked and successful\n",
        "st_false_success.shape[0]"
      ],
      "execution_count": null,
      "outputs": [
        {
          "output_type": "execute_result",
          "data": {
            "text/plain": [
              "97165"
            ]
          },
          "metadata": {
            "tags": []
          },
          "execution_count": 28
        }
      ]
    },
    {
      "cell_type": "code",
      "metadata": {
        "id": "FKDzBKfwSqEH",
        "colab_type": "code",
        "colab": {
          "base_uri": "https://localhost:8080/",
          "height": 34
        },
        "outputId": "32777f21-b1ca-4823-bf5b-1985a13b466b"
      },
      "source": [
        "# Not Staff picked and failed\n",
        "st_false_fail.shape[0]"
      ],
      "execution_count": null,
      "outputs": [
        {
          "output_type": "execute_result",
          "data": {
            "text/plain": [
              "84786"
            ]
          },
          "metadata": {
            "tags": []
          },
          "execution_count": 29
        }
      ]
    },
    {
      "cell_type": "code",
      "metadata": {
        "id": "xQzyBa2eUCu7",
        "colab_type": "code",
        "colab": {
          "base_uri": "https://localhost:8080/",
          "height": 214
        },
        "outputId": "da34b136-77f1-4e60-b723-290c4fa7114e"
      },
      "source": [
        "beggers = df0[df0['usd_goal'] == .01]\n",
        "beggers.head()"
      ],
      "execution_count": null,
      "outputs": [
        {
          "output_type": "execute_result",
          "data": {
            "text/html": [
              "<div>\n",
              "<style scoped>\n",
              "    .dataframe tbody tr th:only-of-type {\n",
              "        vertical-align: middle;\n",
              "    }\n",
              "\n",
              "    .dataframe tbody tr th {\n",
              "        vertical-align: top;\n",
              "    }\n",
              "\n",
              "    .dataframe thead th {\n",
              "        text-align: right;\n",
              "    }\n",
              "</style>\n",
              "<table border=\"1\" class=\"dataframe\">\n",
              "  <thead>\n",
              "    <tr style=\"text-align: right;\">\n",
              "      <th></th>\n",
              "      <th>Unnamed: 0</th>\n",
              "      <th>backers_count</th>\n",
              "      <th>blurb</th>\n",
              "      <th>category</th>\n",
              "      <th>country</th>\n",
              "      <th>country_displayable_name</th>\n",
              "      <th>created_at</th>\n",
              "      <th>creator</th>\n",
              "      <th>currency</th>\n",
              "      <th>deadline</th>\n",
              "      <th>fx_rate</th>\n",
              "      <th>goal</th>\n",
              "      <th>id</th>\n",
              "      <th>launched_at</th>\n",
              "      <th>name</th>\n",
              "      <th>slug</th>\n",
              "      <th>spotlight</th>\n",
              "      <th>staff_pick</th>\n",
              "      <th>state_changed_at</th>\n",
              "      <th>usd_pledged</th>\n",
              "      <th>description_leng</th>\n",
              "      <th>is_successful</th>\n",
              "      <th>is_usa</th>\n",
              "      <th>usd_goal</th>\n",
              "      <th>is_usd</th>\n",
              "      <th>cam_length</th>\n",
              "    </tr>\n",
              "  </thead>\n",
              "  <tbody>\n",
              "    <tr>\n",
              "      <th>34226</th>\n",
              "      <td>34226</td>\n",
              "      <td>6</td>\n",
              "      <td>$1 a square inch in Detroit + super fun excite...</td>\n",
              "      <td>Conceptual Art</td>\n",
              "      <td>US</td>\n",
              "      <td>the United States</td>\n",
              "      <td>2009-11-25 06:07:11</td>\n",
              "      <td>{\"id\":211945026,\"name\":\"Jerry Paffendorf\",\"slu...</td>\n",
              "      <td>USD</td>\n",
              "      <td>2009-11-25 06:07:11</td>\n",
              "      <td>1.0</td>\n",
              "      <td>0.01</td>\n",
              "      <td>620302213</td>\n",
              "      <td>2009-11-25 06:54:49</td>\n",
              "      <td>LOVELAND Round 6: A Force More Powerful</td>\n",
              "      <td>loveland-round-6-a-force-more-powerful</td>\n",
              "      <td>True</td>\n",
              "      <td>False</td>\n",
              "      <td>2009-12-04 06:15:06</td>\n",
              "      <td>100.0</td>\n",
              "      <td>67</td>\n",
              "      <td>True</td>\n",
              "      <td>True</td>\n",
              "      <td>0.01</td>\n",
              "      <td>True</td>\n",
              "      <td>8</td>\n",
              "    </tr>\n",
              "  </tbody>\n",
              "</table>\n",
              "</div>"
            ],
            "text/plain": [
              "       Unnamed: 0  backers_count  ... is_usd cam_length\n",
              "34226       34226              6  ...   True          8\n",
              "\n",
              "[1 rows x 26 columns]"
            ]
          },
          "metadata": {
            "tags": []
          },
          "execution_count": 30
        }
      ]
    },
    {
      "cell_type": "code",
      "metadata": {
        "id": "Tdw9Hi1fUbgC",
        "colab_type": "code",
        "colab": {
          "base_uri": "https://localhost:8080/",
          "height": 34
        },
        "outputId": "0bdac0fb-ddfd-4e7c-f3a7-b773e9081c0d"
      },
      "source": [
        "beggers.iloc[0,2]"
      ],
      "execution_count": null,
      "outputs": [
        {
          "output_type": "execute_result",
          "data": {
            "text/plain": [
              "'$1 a square inch in Detroit + super fun excitement. Inchvest today.'"
            ]
          },
          "metadata": {
            "tags": []
          },
          "execution_count": 31
        }
      ]
    },
    {
      "cell_type": "code",
      "metadata": {
        "id": "xyRrGZWrWz68",
        "colab_type": "code",
        "colab": {
          "base_uri": "https://localhost:8080/",
          "height": 585
        },
        "outputId": "e2fb76a6-5ebe-451f-c2b3-9ced63a2aa75"
      },
      "source": [
        "poor = df0[df0['usd_goal'] < 1]\n",
        "poor.head()"
      ],
      "execution_count": null,
      "outputs": [
        {
          "output_type": "execute_result",
          "data": {
            "text/html": [
              "<div>\n",
              "<style scoped>\n",
              "    .dataframe tbody tr th:only-of-type {\n",
              "        vertical-align: middle;\n",
              "    }\n",
              "\n",
              "    .dataframe tbody tr th {\n",
              "        vertical-align: top;\n",
              "    }\n",
              "\n",
              "    .dataframe thead th {\n",
              "        text-align: right;\n",
              "    }\n",
              "</style>\n",
              "<table border=\"1\" class=\"dataframe\">\n",
              "  <thead>\n",
              "    <tr style=\"text-align: right;\">\n",
              "      <th></th>\n",
              "      <th>Unnamed: 0</th>\n",
              "      <th>backers_count</th>\n",
              "      <th>blurb</th>\n",
              "      <th>category</th>\n",
              "      <th>country</th>\n",
              "      <th>country_displayable_name</th>\n",
              "      <th>created_at</th>\n",
              "      <th>creator</th>\n",
              "      <th>currency</th>\n",
              "      <th>deadline</th>\n",
              "      <th>fx_rate</th>\n",
              "      <th>goal</th>\n",
              "      <th>id</th>\n",
              "      <th>launched_at</th>\n",
              "      <th>name</th>\n",
              "      <th>slug</th>\n",
              "      <th>spotlight</th>\n",
              "      <th>staff_pick</th>\n",
              "      <th>state_changed_at</th>\n",
              "      <th>usd_pledged</th>\n",
              "      <th>description_leng</th>\n",
              "      <th>is_successful</th>\n",
              "      <th>is_usa</th>\n",
              "      <th>usd_goal</th>\n",
              "      <th>is_usd</th>\n",
              "      <th>cam_length</th>\n",
              "    </tr>\n",
              "  </thead>\n",
              "  <tbody>\n",
              "    <tr>\n",
              "      <th>1500</th>\n",
              "      <td>1500</td>\n",
              "      <td>1</td>\n",
              "      <td>A true story ー a man abandoned by his parents,...</td>\n",
              "      <td>Drama</td>\n",
              "      <td>JP</td>\n",
              "      <td>Japan</td>\n",
              "      <td>2019-07-20 11:31:52</td>\n",
              "      <td>{\"id\":416251782,\"name\":\"Masaru  Yasokawa\",\"slu...</td>\n",
              "      <td>JPY</td>\n",
              "      <td>2019-07-20 11:31:52</td>\n",
              "      <td>0.009358</td>\n",
              "      <td>100.0</td>\n",
              "      <td>48400411</td>\n",
              "      <td>2019-07-23 04:07:52</td>\n",
              "      <td>“SONG FOR THE LOSER” Filmmaking Project</td>\n",
              "      <td>song-for-the-loser-filmmaking-project</td>\n",
              "      <td>True</td>\n",
              "      <td>False</td>\n",
              "      <td>2019-09-21 04:07:52</td>\n",
              "      <td>1.009862</td>\n",
              "      <td>92</td>\n",
              "      <td>True</td>\n",
              "      <td>False</td>\n",
              "      <td>0.935778</td>\n",
              "      <td>False</td>\n",
              "      <td>60</td>\n",
              "    </tr>\n",
              "    <tr>\n",
              "      <th>3047</th>\n",
              "      <td>3047</td>\n",
              "      <td>1</td>\n",
              "      <td>Hi I’m George,I’m a singer songwriter,I have m...</td>\n",
              "      <td>Pop</td>\n",
              "      <td>NZ</td>\n",
              "      <td>New Zealand</td>\n",
              "      <td>2019-09-09 15:46:47</td>\n",
              "      <td>{\"id\":2051028629,\"name\":\"George\",\"is_registere...</td>\n",
              "      <td>NZD</td>\n",
              "      <td>2019-09-09 15:46:47</td>\n",
              "      <td>0.644495</td>\n",
              "      <td>1.0</td>\n",
              "      <td>1332052074</td>\n",
              "      <td>2019-09-13 18:20:10</td>\n",
              "      <td>GS music kpop style singer songwriter</td>\n",
              "      <td>gs-music-kpop-style-singer-songwriter</td>\n",
              "      <td>True</td>\n",
              "      <td>False</td>\n",
              "      <td>2019-11-12 19:20:10</td>\n",
              "      <td>0.913912</td>\n",
              "      <td>135</td>\n",
              "      <td>True</td>\n",
              "      <td>False</td>\n",
              "      <td>0.644495</td>\n",
              "      <td>False</td>\n",
              "      <td>60</td>\n",
              "    </tr>\n",
              "    <tr>\n",
              "      <th>4529</th>\n",
              "      <td>4529</td>\n",
              "      <td>1</td>\n",
              "      <td>A true story ー a man abandoned by his parents,...</td>\n",
              "      <td>Drama</td>\n",
              "      <td>JP</td>\n",
              "      <td>Japan</td>\n",
              "      <td>2019-07-20 11:31:52</td>\n",
              "      <td>{\"id\":416251782,\"name\":\"Masaru  Yasokawa\",\"slu...</td>\n",
              "      <td>JPY</td>\n",
              "      <td>2019-07-20 11:31:52</td>\n",
              "      <td>0.009324</td>\n",
              "      <td>100.0</td>\n",
              "      <td>48400411</td>\n",
              "      <td>2019-07-23 04:07:52</td>\n",
              "      <td>“SONG FOR THE LOSER” Filmmaking Project</td>\n",
              "      <td>song-for-the-loser-filmmaking-project</td>\n",
              "      <td>True</td>\n",
              "      <td>False</td>\n",
              "      <td>2019-09-21 04:07:52</td>\n",
              "      <td>1.009862</td>\n",
              "      <td>92</td>\n",
              "      <td>True</td>\n",
              "      <td>False</td>\n",
              "      <td>0.932357</td>\n",
              "      <td>False</td>\n",
              "      <td>60</td>\n",
              "    </tr>\n",
              "    <tr>\n",
              "      <th>6866</th>\n",
              "      <td>6866</td>\n",
              "      <td>28</td>\n",
              "      <td>We will produce Coloring Book, Vinyl Motorcycl...</td>\n",
              "      <td>Comic Books</td>\n",
              "      <td>JP</td>\n",
              "      <td>Japan</td>\n",
              "      <td>2018-05-01 06:08:52</td>\n",
              "      <td>{\"id\":1486348400,\"name\":\"underpowermotors\",\"sl...</td>\n",
              "      <td>JPY</td>\n",
              "      <td>2018-05-01 06:08:52</td>\n",
              "      <td>0.009324</td>\n",
              "      <td>101.0</td>\n",
              "      <td>537781535</td>\n",
              "      <td>2018-05-13 16:10:26</td>\n",
              "      <td>装甲×少女 / Armored x Girl Coloring Book &amp; Sticker</td>\n",
              "      <td>armored-x-girl</td>\n",
              "      <td>True</td>\n",
              "      <td>False</td>\n",
              "      <td>2018-06-12 16:10:26</td>\n",
              "      <td>171.573510</td>\n",
              "      <td>63</td>\n",
              "      <td>True</td>\n",
              "      <td>False</td>\n",
              "      <td>0.941681</td>\n",
              "      <td>False</td>\n",
              "      <td>30</td>\n",
              "    </tr>\n",
              "    <tr>\n",
              "      <th>8022</th>\n",
              "      <td>8022</td>\n",
              "      <td>19</td>\n",
              "      <td>Fight as a destined king and restore peace to ...</td>\n",
              "      <td>Video Games</td>\n",
              "      <td>CA</td>\n",
              "      <td>Canada</td>\n",
              "      <td>2017-01-30 15:58:00</td>\n",
              "      <td>{\"id\":1644992020,\"name\":\"Divine Gaming (delete...</td>\n",
              "      <td>CAD</td>\n",
              "      <td>2017-01-30 15:58:00</td>\n",
              "      <td>0.737199</td>\n",
              "      <td>1.0</td>\n",
              "      <td>248334240</td>\n",
              "      <td>2017-01-31 15:59:36</td>\n",
              "      <td>IRONSAGA</td>\n",
              "      <td>ironsaga-1</td>\n",
              "      <td>True</td>\n",
              "      <td>False</td>\n",
              "      <td>2017-03-03 15:59:37</td>\n",
              "      <td>84.530210</td>\n",
              "      <td>113</td>\n",
              "      <td>True</td>\n",
              "      <td>False</td>\n",
              "      <td>0.737199</td>\n",
              "      <td>False</td>\n",
              "      <td>31</td>\n",
              "    </tr>\n",
              "  </tbody>\n",
              "</table>\n",
              "</div>"
            ],
            "text/plain": [
              "      Unnamed: 0  backers_count  ... is_usd cam_length\n",
              "1500        1500              1  ...  False         60\n",
              "3047        3047              1  ...  False         60\n",
              "4529        4529              1  ...  False         60\n",
              "6866        6866             28  ...  False         30\n",
              "8022        8022             19  ...  False         31\n",
              "\n",
              "[5 rows x 26 columns]"
            ]
          },
          "metadata": {
            "tags": []
          },
          "execution_count": 32
        }
      ]
    },
    {
      "cell_type": "code",
      "metadata": {
        "id": "6egR6H7_XB89",
        "colab_type": "code",
        "colab": {
          "base_uri": "https://localhost:8080/",
          "height": 34
        },
        "outputId": "b2c190f2-daf1-4e78-b84b-53ae1faf3e4d"
      },
      "source": [
        "poor.shape[0]"
      ],
      "execution_count": null,
      "outputs": [
        {
          "output_type": "execute_result",
          "data": {
            "text/plain": [
              "28"
            ]
          },
          "metadata": {
            "tags": []
          },
          "execution_count": 33
        }
      ]
    },
    {
      "cell_type": "code",
      "metadata": {
        "id": "6vEGcHytZRok",
        "colab_type": "code",
        "colab": {
          "base_uri": "https://localhost:8080/",
          "height": 34
        },
        "outputId": "f8f6c997-53ba-4acc-9040-42541c3c7731"
      },
      "source": [
        "semi_poor = df0[df0['usd_goal'] < 10]\n",
        "semi_poor.shape[0]"
      ],
      "execution_count": null,
      "outputs": [
        {
          "output_type": "execute_result",
          "data": {
            "text/plain": [
              "582"
            ]
          },
          "metadata": {
            "tags": []
          },
          "execution_count": 35
        }
      ]
    },
    {
      "cell_type": "code",
      "metadata": {
        "id": "_gcXt1TieHGM",
        "colab_type": "code",
        "colab": {}
      },
      "source": [
        "import category_encoders as ce\n",
        "from sklearn.impute import SimpleImputer\n",
        "from sklearn.ensemble import RandomForestClassifier\n",
        "from sklearn.model_selection import RandomizedSearchCV\n",
        "from sklearn.pipeline import make_pipeline\n",
        "from sklearn.model_selection import RandomizedSearchCV"
      ],
      "execution_count": null,
      "outputs": []
    },
    {
      "cell_type": "code",
      "metadata": {
        "id": "BCxCArPadd5m",
        "colab_type": "code",
        "colab": {}
      },
      "source": [
        "pipeline2 = make_pipeline(\n",
        "    ce.OrdinalEncoder(),\n",
        "    RandomForestClassifier(random_state = 0, n_jobs = -1)\n",
        ")"
      ],
      "execution_count": null,
      "outputs": []
    },
    {
      "cell_type": "code",
      "metadata": {
        "id": "J_8ib3Q-drD_",
        "colab_type": "code",
        "colab": {}
      },
      "source": [
        "param_distributions = {\n",
        "    'randomforestclassifier__n_estimators': [50, 100, 250, 500], \n",
        "    'randomforestclassifier__max_depth': [5, 10, 15, 20, None],\n",
        "    'randomforestclassifier__max_features': [.10,.25,.5,.75,'auto',None]\n",
        "}"
      ],
      "execution_count": null,
      "outputs": []
    },
    {
      "cell_type": "code",
      "metadata": {
        "id": "VKp8fED6duJm",
        "colab_type": "code",
        "colab": {
          "base_uri": "https://localhost:8080/",
          "height": 205
        },
        "outputId": "6eceae76-6b4f-45b0-ed00-43f206cbabec"
      },
      "source": [
        "search = RandomizedSearchCV(\n",
        "    pipeline2,\n",
        "    param_distributions = param_distributions,\n",
        "    n_iter = 10,\n",
        "    cv = 2,\n",
        "    verbose = 10,\n",
        "    return_train_score = True,\n",
        "    n_jobs = -1\n",
        ")\n",
        "\n",
        "search.fit(x_train, y_train);"
      ],
      "execution_count": null,
      "outputs": [
        {
          "output_type": "stream",
          "text": [
            "Fitting 2 folds for each of 10 candidates, totalling 20 fits\n"
          ],
          "name": "stdout"
        },
        {
          "output_type": "stream",
          "text": [
            "[Parallel(n_jobs=-1)]: Using backend LokyBackend with 2 concurrent workers.\n",
            "[Parallel(n_jobs=-1)]: Done   1 tasks      | elapsed:   10.0s\n",
            "[Parallel(n_jobs=-1)]: Done   4 tasks      | elapsed:   12.4s\n",
            "[Parallel(n_jobs=-1)]: Done   9 tasks      | elapsed:   32.7s\n",
            "[Parallel(n_jobs=-1)]: Done  14 tasks      | elapsed:   55.0s\n",
            "[Parallel(n_jobs=-1)]: Done  20 out of  20 | elapsed:  1.4min remaining:    0.0s\n",
            "[Parallel(n_jobs=-1)]: Done  20 out of  20 | elapsed:  1.4min finished\n",
            "/usr/local/lib/python3.6/dist-packages/sklearn/pipeline.py:354: DataConversionWarning: A column-vector y was passed when a 1d array was expected. Please change the shape of y to (n_samples,), for example using ravel().\n",
            "  self._final_estimator.fit(Xt, y, **fit_params)\n"
          ],
          "name": "stderr"
        }
      ]
    },
    {
      "cell_type": "code",
      "metadata": {
        "id": "KsL40O-qd1jN",
        "colab_type": "code",
        "colab": {}
      },
      "source": [
        "x = search.best_estimator_\n",
        "y_pred2 = x.predict(x_test)"
      ],
      "execution_count": null,
      "outputs": []
    },
    {
      "cell_type": "code",
      "metadata": {
        "id": "0VeiYXrweaGy",
        "colab_type": "code",
        "colab": {
          "base_uri": "https://localhost:8080/",
          "height": 34
        },
        "outputId": "04076733-f182-4580-d9ee-04f0ad26eae7"
      },
      "source": [
        "print(accuracy_score(y_test,y_pred2))"
      ],
      "execution_count": null,
      "outputs": [
        {
          "output_type": "stream",
          "text": [
            "0.7363143962100996\n"
          ],
          "name": "stdout"
        }
      ]
    },
    {
      "cell_type": "code",
      "metadata": {
        "id": "kFqUf1kIfg5a",
        "colab_type": "code",
        "colab": {}
      },
      "source": [
        "pipeline3 = make_pipeline(\n",
        "    ce.OneHotEncoder(use_cat_names=True),\n",
        "    RandomForestClassifier(random_state = 0, n_jobs = -1)\n",
        ")"
      ],
      "execution_count": null,
      "outputs": []
    },
    {
      "cell_type": "code",
      "metadata": {
        "id": "L7yyqRvwfk3r",
        "colab_type": "code",
        "colab": {
          "base_uri": "https://localhost:8080/",
          "height": 205
        },
        "outputId": "1a87d152-0c35-4727-c172-fa20a79ba395"
      },
      "source": [
        "search3 = RandomizedSearchCV(\n",
        "    pipeline2,\n",
        "    param_distributions = param_distributions,\n",
        "    n_iter = 10,\n",
        "    cv = 2,\n",
        "    verbose = 10,\n",
        "    return_train_score = True,\n",
        "    n_jobs = -1\n",
        ")\n",
        "\n",
        "search3.fit(x_train, y_train);"
      ],
      "execution_count": null,
      "outputs": [
        {
          "output_type": "stream",
          "text": [
            "Fitting 2 folds for each of 10 candidates, totalling 20 fits\n"
          ],
          "name": "stdout"
        },
        {
          "output_type": "stream",
          "text": [
            "[Parallel(n_jobs=-1)]: Using backend LokyBackend with 2 concurrent workers.\n",
            "[Parallel(n_jobs=-1)]: Done   1 tasks      | elapsed:   10.2s\n",
            "[Parallel(n_jobs=-1)]: Done   4 tasks      | elapsed:   15.6s\n",
            "[Parallel(n_jobs=-1)]: Done   9 tasks      | elapsed:   23.5s\n",
            "[Parallel(n_jobs=-1)]: Done  14 tasks      | elapsed:   32.9s\n",
            "[Parallel(n_jobs=-1)]: Done  20 out of  20 | elapsed:   54.7s remaining:    0.0s\n",
            "[Parallel(n_jobs=-1)]: Done  20 out of  20 | elapsed:   54.7s finished\n",
            "/usr/local/lib/python3.6/dist-packages/sklearn/pipeline.py:354: DataConversionWarning: A column-vector y was passed when a 1d array was expected. Please change the shape of y to (n_samples,), for example using ravel().\n",
            "  self._final_estimator.fit(Xt, y, **fit_params)\n"
          ],
          "name": "stderr"
        }
      ]
    },
    {
      "cell_type": "code",
      "metadata": {
        "id": "w9pko_JVfozK",
        "colab_type": "code",
        "colab": {}
      },
      "source": [
        "x3 = search.best_estimator_\n",
        "y_pred3 = x3.predict(x_test)"
      ],
      "execution_count": null,
      "outputs": []
    },
    {
      "cell_type": "code",
      "metadata": {
        "id": "OeRYy_Dafup6",
        "colab_type": "code",
        "colab": {
          "base_uri": "https://localhost:8080/",
          "height": 34
        },
        "outputId": "cc85d07a-77fd-4866-e28b-a3abb6e4e105"
      },
      "source": [
        "print(accuracy_score(y_test,y_pred3))"
      ],
      "execution_count": null,
      "outputs": [
        {
          "output_type": "stream",
          "text": [
            "0.7363143962100996\n"
          ],
          "name": "stdout"
        }
      ]
    }
  ]
}